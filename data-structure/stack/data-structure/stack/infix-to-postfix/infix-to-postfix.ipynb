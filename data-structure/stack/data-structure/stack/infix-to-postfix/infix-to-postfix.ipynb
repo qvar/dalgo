{
 "cells": [
  {
   "cell_type": "markdown",
   "id": "ed277970",
   "metadata": {},
   "source": [
    "### Algorithm\n",
    "\n",
    "1. read each word from left to right.\n",
    "    1. if word is **operand**, then **output** it.\n",
    "    1. else if word is **(**, then **push** to stack.\n",
    "    1. else if word is **)**, then **pop** the stack and **output** it till getting **)**.\n",
    "    1. else **pop** the stack and **output** it till precedence of **operator** is **greater than** top of stack.\n",
    "1. **pop** the stack and **output** everything."
   ]
  },
  {
   "cell_type": "code",
   "execution_count": 50,
   "id": "35908a71",
   "metadata": {},
   "outputs": [],
   "source": [
    "class Conversion:\n",
    "    \n",
    "    def __init__(self):\n",
    "        self.precedence = {'+': 1, '-': 1, '/': 2, '*': 2, '^': 3, '(': 0} # BEWARE ( is in stack\n",
    "        \n",
    "    def infixToPostfix(self, input_str):\n",
    "        stack = []\n",
    "        output_str = \"\"\n",
    "        \n",
    "        for c in input_str:\n",
    "            \n",
    "            if c.isalpha():\n",
    "                output_str += c\n",
    "                \n",
    "            elif c == '(':\n",
    "                stack.append(c)\n",
    "                \n",
    "            elif c == ')':\n",
    "                while len(stack) and stack[-1] != '(':\n",
    "                    output_str += stack[-1]\n",
    "                    stack.pop()\n",
    "                stack.pop() #remove (\n",
    "                \n",
    "            else: \n",
    "                while len(stack) and self.precedence[c] <= self.precedence[stack[-1]]: # BEWARE <=\n",
    "                    output_str += stack[-1]\n",
    "                    stack.pop()\n",
    "                stack.append(c)\n",
    "                \n",
    "        while len(stack):  # BEWARE empty the stack\n",
    "            output_str += stack[-1]\n",
    "            stack.pop()\n",
    "            \n",
    "        return output_str"
   ]
  },
  {
   "cell_type": "code",
   "execution_count": 51,
   "id": "98fdedfe",
   "metadata": {},
   "outputs": [
    {
     "data": {
      "text/plain": [
       "True"
      ]
     },
     "execution_count": 51,
     "metadata": {},
     "output_type": "execute_result"
    }
   ],
   "source": [
    "exp = \"a+b*(c^d-e)^(f+g*h)-i\"\n",
    "expected_exp = \"abcd^e-fgh*+^*+i-\"\n",
    "\n",
    "obj = Conversion()\n",
    "new_exp = obj.infixToPostfix(exp)\n",
    "\n",
    "expected_exp == new_exp"
   ]
  }
 ],
 "metadata": {
  "kernelspec": {
   "display_name": "Python 3 (ipykernel)",
   "language": "python",
   "name": "python3"
  },
  "language_info": {
   "codemirror_mode": {
    "name": "ipython",
    "version": 3
   },
   "file_extension": ".py",
   "mimetype": "text/x-python",
   "name": "python",
   "nbconvert_exporter": "python",
   "pygments_lexer": "ipython3",
   "version": "3.9.7"
  }
 },
 "nbformat": 4,
 "nbformat_minor": 5
}
